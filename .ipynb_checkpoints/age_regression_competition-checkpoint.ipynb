{
 "cells": [
  {
   "cell_type": "code",
   "execution_count": null,
   "metadata": {},
   "outputs": [],
   "source": [
    "import os\n",
    "os.environ['KERAS_BACKEND'] = 'tensorflow'"
   ]
  },
  {
   "cell_type": "code",
   "execution_count": null,
   "metadata": {},
   "outputs": [],
   "source": [
    "from matplotlib import pyplot as plt\n",
    "import numpy as np\n",
    "import h5py\n",
    "from keras import optimizers\n",
    "from keras.models import Model \n",
    "from keras.layers import Conv2D \n",
    "from keras.layers import MaxPooling2D\n",
    "from keras.layers import BatchNormalization\n",
    "from keras.layers import Input\n",
    "from keras.layers import Flatten\n",
    "from keras.layers import Dense"
   ]
  },
  {
   "cell_type": "markdown",
   "metadata": {},
   "source": [
    "Load training, validation, and testing data. Convert to nummpy array, add singleton dimension in channel position (1 channel -- grayscale). Edit path as needed. Note that a warning may appear about expand_dims using deprecated functions -- ignore it or swap expand_dims with X_test[:,:,:, np.newaxis]"
   ]
  },
  {
   "cell_type": "code",
   "execution_count": null,
   "metadata": {},
   "outputs": [],
   "source": [
    "datapath = './data/Pneumothorax.h5'\n",
    "\n",
    "with h5py.File(datapath,'r') as f:\n",
    "    X_test = np.expand_dims( np.array(f.get('input_test')) , 3).astype(np.float32)\n",
    "    Y_test = np.expand_dims( np.array(f.get('target_test')) , 3).astype(np.float32)   \n",
    "    X_train = np.expand_dims( np.array(f.get('input_train')) , 3).astype(np.float32)  \n",
    "    Y_train = np.expand_dims( np.array(f.get('target_train')) , 3).astype(np.float32)   \n",
    "    X_val =  np.expand_dims( np.array(f.get('input_val')) , 3).astype(np.float32)   \n",
    "    Y_val = np.expand_dims( np.array(f.get('target_val')) , 3).astype(np.float32)"
   ]
  },
  {
   "cell_type": "markdown",
   "metadata": {},
   "source": [
    "I'll start your network, you build the rest:"
   ]
  },
  {
   "cell_type": "code",
   "execution_count": null,
   "metadata": {},
   "outputs": [],
   "source": [
    "img_input = Input(shape=(256, 256, 1))"
   ]
  },
  {
   "cell_type": "markdown",
   "metadata": {},
   "source": [
    "Hint: the final layer should have linear activation with 1 output"
   ]
  },
  {
   "cell_type": "code",
   "execution_count": null,
   "metadata": {},
   "outputs": [],
   "source": []
  }
 ],
 "metadata": {
  "kernelspec": {
   "display_name": "Python 3",
   "language": "python",
   "name": "python3"
  },
  "language_info": {
   "codemirror_mode": {
    "name": "ipython",
    "version": 3
   },
   "file_extension": ".py",
   "mimetype": "text/x-python",
   "name": "python",
   "nbconvert_exporter": "python",
   "pygments_lexer": "ipython3",
   "version": "3.6.7"
  }
 },
 "nbformat": 4,
 "nbformat_minor": 2
}
