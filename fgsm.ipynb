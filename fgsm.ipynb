{
 "cells": [
  {
   "cell_type": "code",
   "execution_count": 1,
   "metadata": {},
   "outputs": [],
   "source": [
    "import os\n",
    "os.environ['KERAS_BACKEND'] = 'tensorflow'"
   ]
  },
  {
   "cell_type": "code",
   "execution_count": 2,
   "metadata": {},
   "outputs": [
    {
     "name": "stderr",
     "output_type": "stream",
     "text": [
      "Using TensorFlow backend.\n"
     ]
    }
   ],
   "source": [
    "from matplotlib import pyplot as plt\n",
    "import numpy as np\n",
    "from keras.models import load_model\n",
    "from keras import backend as K\n",
    "import keras\n",
    "import tensorflow as tf"
   ]
  },
  {
   "cell_type": "code",
   "execution_count": 3,
   "metadata": {},
   "outputs": [
    {
     "name": "stdout",
     "output_type": "stream",
     "text": [
      "_________________________________________________________________\n",
      "Layer (type)                 Output Shape              Param #   \n",
      "=================================================================\n",
      "input_2 (InputLayer)         (None, 32, 32, 3)         0         \n",
      "_________________________________________________________________\n",
      "flatten_2 (Flatten)          (None, 3072)              0         \n",
      "_________________________________________________________________\n",
      "dense_6 (Dense)              (None, 2048)              6293504   \n",
      "_________________________________________________________________\n",
      "dense_7 (Dense)              (None, 2048)              4196352   \n",
      "_________________________________________________________________\n",
      "dense_8 (Dense)              (None, 10)                20490     \n",
      "=================================================================\n",
      "Total params: 10,510,346\n",
      "Trainable params: 10,510,346\n",
      "Non-trainable params: 0\n",
      "_________________________________________________________________\n"
     ]
    }
   ],
   "source": [
    "model = load_model(\"./saved_model/model.h5\")\n",
    "model.summary()"
   ]
  },
  {
   "cell_type": "code",
   "execution_count": 4,
   "metadata": {},
   "outputs": [],
   "source": [
    "from keras.datasets import cifar10\n",
    "(x_train, y_train), (x_test, y_test) = cifar10.load_data()"
   ]
  },
  {
   "cell_type": "code",
   "execution_count": 5,
   "metadata": {},
   "outputs": [],
   "source": [
    "x_train = x_train/255.0\n",
    "x_test = x_test/255.0\n",
    "mean=[0.485, 0.456, 0.406]\n",
    "std=[0.229, 0.224, 0.225]\n",
    "x_train = (x_train - mean)/std\n",
    "x_test = (x_test - mean)/std"
   ]
  },
  {
   "cell_type": "code",
   "execution_count": 6,
   "metadata": {},
   "outputs": [
    {
     "name": "stdout",
     "output_type": "stream",
     "text": [
      "Test accuracy: 0.5076\n"
     ]
    }
   ],
   "source": [
    "y_pred = model.predict(x_test, batch_size=64)\n",
    "y_pred = np.argmax(np.squeeze(y_pred), axis=1)\n",
    "y_test = np.squeeze(y_test)\n",
    "acc = sum(y_pred == y_test)/len(y_test)\n",
    "print(\"Test accuracy: \" + str(acc))"
   ]
  },
  {
   "cell_type": "code",
   "execution_count": 7,
   "metadata": {},
   "outputs": [],
   "source": [
    "class AdversarialAttack(object):\n",
    "    def __init__(self, model, loss_func, epsilon=0.0):\n",
    "        self._loss_func = loss_func\n",
    "        self._epsilon = epsilon\n",
    "        self._model = keras.models.clone_model(model)\n",
    "\n",
    "        self._model.trainable = False\n",
    "        self._model.compile(optimizer=model.optimizer, loss=self._loss_func)\n",
    "\n",
    "        self.getFGSMTensor()\n",
    "\n",
    "    def getFGSMTensor(self):\n",
    "        self.label = K.placeholder(shape=self._model.output.get_shape())\n",
    "        self.loss = self._loss_func(self.label, self._model.output)\n",
    "        self.normed_grads = K.sign(K.gradients(self.loss, self._model.input)[0])\n",
    "        self.iterate = K.function([self._model.input, self.label], [self.loss, self.normed_grads])\n",
    "\n",
    "    def getWeights(self, model):\n",
    "        self._model.set_weights(model.get_weights())\n",
    "\n",
    "    def fgsmGrad(self, x, y, model):\n",
    "        self.getWeights(model)\n",
    "        loss_value, adv_grad = self.iterate([x, y.astype('float32')])\n",
    "        return adv_grad\n",
    "\n",
    "    def fgsm(self, x, y, model, epsilon=None):\n",
    "        adv_grad = self.fgsmGrad(x, y, model)\n",
    "        if epsilon:\n",
    "            x_adv = x+epsilon*adv_grad\n",
    "        else:\n",
    "            x_adv = x+self._epsilon*adv_grad\n",
    "        return x_adv"
   ]
  },
  {
   "cell_type": "code",
   "execution_count": 8,
   "metadata": {},
   "outputs": [],
   "source": [
    "loss_func = keras.losses.sparse_categorical_crossentropy\n",
    "adv_class = AdversarialAttack(model, loss_func)"
   ]
  },
  {
   "cell_type": "code",
   "execution_count": 30,
   "metadata": {},
   "outputs": [
    {
     "name": "stdout",
     "output_type": "stream",
     "text": [
      "Loss for prediction of the original image: 0.90025693\n",
      "Loss for prediction of the adversarial image: 1.7781217\n"
     ]
    }
   ],
   "source": [
    "epsilon = 0.1\n",
    "x_origin = x_test[8][np.newaxis, :]\n",
    "y_origin = y_test[8]\n",
    "y_pred = np.squeeze(np.argmax(model.predict(x_origin), axis=1))\n",
    "\n",
    "loss_origin = tf.Session().run(loss_func(tf.convert_to_tensor(y_origin), \n",
    "                                 tf.convert_to_tensor(model.predict(x_origin))))[0]\n",
    "\n",
    "x_adv = adv_class.fgsm(x_origin, y_origin, model, epsilon)\n",
    "y_adv = np.squeeze(np.argmax(model.predict(x_adv), axis=1))\n",
    "loss_adv = tf.Session().run(loss_func(tf.convert_to_tensor(y_origin), \n",
    "                                 tf.convert_to_tensor(model.predict(x_adv))))[0]\n",
    "\n",
    "print(\"Loss for prediction of the original image: \" + str(loss_origin))\n",
    "print(\"Loss for prediction of the adversarial image: \" + str(loss_adv))"
   ]
  },
  {
   "cell_type": "code",
   "execution_count": 31,
   "metadata": {},
   "outputs": [
    {
     "data": {
      "text/plain": [
       "(-0.5, 31.5, 31.5, -0.5)"
      ]
     },
     "execution_count": 31,
     "metadata": {},
     "output_type": "execute_result"
    },
    {
     "data": {
      "image/png": "[encoded data removed]",
      "text/plain": [
       "<Figure size 720x720 with 2 Axes>"
      ]
     },
     "metadata": {},
     "output_type": "display_data"
    }
   ],
   "source": [
    "x_origin_img = np.clip((np.squeeze(x_origin)*std+mean)*255.0, 0, 255).astype(np.int32)\n",
    "x_adv_img = np.clip((np.squeeze(x_adv)*std+mean)*255.0, 0, 255).astype(np.int32)\n",
    "plt.figure(figsize=(10, 10))\n",
    "plt.subplot(121)\n",
    "plt.imshow(x_origin_img)\n",
    "plt.axis('off')\n",
    "plt.subplot(122)\n",
    "plt.imshow(x_adv_img)\n",
    "plt.axis('off')"
   ]
  },
  {
   "cell_type": "code",
   "execution_count": 36,
   "metadata": {},
   "outputs": [
    {
     "name": "stdout",
     "output_type": "stream",
     "text": [
      "The truth label is: 3\n",
      "Predicted label of the original image: 3\n",
      "Predicted label of the adversarial image: 7\n"
     ]
    }
   ],
   "source": [
    "# Label from 0-9:\n",
    "# ['airplane', 'automobile', 'bird', 'cat', 'deer',\n",
    "#  'dog', 'frog', 'horse', 'ship', 'truck']\n",
    "\n",
    "print(\"The truth label is: \" + str(y_origin))\n",
    "print(\"Predicted label of the original image: \" + str(y_pred))\n",
    "print(\"Predicted label of the adversarial image: \"+ str(y_adv))"
   ]
  },
  {
   "cell_type": "code",
   "execution_count": 12,
   "metadata": {},
   "outputs": [],
   "source": [
    "y_adv_all = []\n",
    "for i in range(len(y_test)):\n",
    "    x_origin = x_test[i][np.newaxis, :]\n",
    "    y_origin = y_test[i]\n",
    "    x_adv = adv_class.fgsm(x_origin, y_origin, model, epsilon)\n",
    "    y_adv = np.squeeze(np.argmax(model.predict(x_adv), axis=1))\n",
    "    y_adv_all.append(y_adv)"
   ]
  },
  {
   "cell_type": "code",
   "execution_count": 13,
   "metadata": {},
   "outputs": [
    {
     "name": "stdout",
     "output_type": "stream",
     "text": [
      "Test accuracy for original images: 0.5076\n",
      "Test accuracy for adversarial images: 0.1166\n"
     ]
    }
   ],
   "source": [
    "y_test = np.squeeze(y_test)\n",
    "acc_adv = sum(y_adv_all == y_test)/len(y_test)\n",
    "print(\"Test accuracy for original images: \" + str(acc))\n",
    "print(\"Test accuracy for adversarial images: \" + str(acc_adv))"
   ]
  },
  {
   "cell_type": "code",
   "execution_count": null,
   "metadata": {},
   "outputs": [],
   "source": []
  }
 ],
 "metadata": {
  "kernelspec": {
   "display_name": "Python 3",
   "language": "python",
   "name": "python3"
  },
  "language_info": {
   "codemirror_mode": {
    "name": "ipython",
    "version": 3
   },
   "file_extension": ".py",
   "mimetype": "text/x-python",
   "name": "python",
   "nbconvert_exporter": "python",
   "pygments_lexer": "ipython3",
   "version": "3.6.7"
  }
 },
 "nbformat": 4,
 "nbformat_minor": 2
}
