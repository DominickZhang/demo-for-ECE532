{
 "cells": [
  {
   "cell_type": "code",
   "execution_count": 1,
   "metadata": {},
   "outputs": [],
   "source": [
    "import os\n",
    "os.environ['KERAS_BACKEND'] = 'tensorflow'"
   ]
  },
  {
   "cell_type": "code",
   "execution_count": 2,
   "metadata": {},
   "outputs": [
    {
     "name": "stderr",
     "output_type": "stream",
     "text": [
      "Using TensorFlow backend.\n"
     ]
    }
   ],
   "source": [
    "from matplotlib import pyplot as plt\n",
    "#plt.rcParams['figure.figsize'] = [40, 40]\n",
    "import numpy as np\n",
    "import h5py\n",
    "from keras import optimizers\n",
    "from keras.models import Model \n",
    "from keras import layers\n",
    "from keras import callbacks"
   ]
  },
  {
   "cell_type": "code",
   "execution_count": 3,
   "metadata": {},
   "outputs": [],
   "source": [
    "if not os.path.exists(\"./saved_model\"):\n",
    "    os.mkdir(\"./saved_model\")"
   ]
  },
  {
   "cell_type": "code",
   "execution_count": 4,
   "metadata": {},
   "outputs": [],
   "source": [
    "from keras.datasets import cifar10\n",
    "(x_train, y_train), (x_test, y_test) = cifar10.load_data()"
   ]
  },
  {
   "cell_type": "code",
   "execution_count": null,
   "metadata": {},
   "outputs": [],
   "source": [
    "plt.figure(figsize=(20, 20))\n",
    "for i in range(10):\n",
    "    plt.subplot(1, 10, i+1)\n",
    "    plt.imshow(x_train[i])\n",
    "    plt.axis('off')"
   ]
  },
  {
   "cell_type": "code",
   "execution_count": 5,
   "metadata": {},
   "outputs": [],
   "source": [
    "x_train = x_train/255.0\n",
    "x_test = x_test/255.0\n",
    "mean=[0.485, 0.456, 0.406]\n",
    "std=[0.229, 0.224, 0.225]\n",
    "x_train = (x_train - mean)/std\n",
    "x_test = (x_test - mean)/std"
   ]
  },
  {
   "cell_type": "code",
   "execution_count": 7,
   "metadata": {},
   "outputs": [
    {
     "name": "stdout",
     "output_type": "stream",
     "text": [
      "_________________________________________________________________\n",
      "Layer (type)                 Output Shape              Param #   \n",
      "=================================================================\n",
      "input_1 (InputLayer)         (None, 32, 32, 3)         0         \n",
      "_________________________________________________________________\n",
      "flatten_1 (Flatten)          (None, 3072)              0         \n",
      "_________________________________________________________________\n",
      "dense_1 (Dense)              (None, 1000)              3073000   \n",
      "_________________________________________________________________\n",
      "dense_2 (Dense)              (None, 1000)              1001000   \n",
      "_________________________________________________________________\n",
      "dense_3 (Dense)              (None, 10)                10010     \n",
      "=================================================================\n",
      "Total params: 4,084,010\n",
      "Trainable params: 4,084,010\n",
      "Non-trainable params: 0\n",
      "_________________________________________________________________\n"
     ]
    }
   ],
   "source": [
    "num_layers = 2\n",
    "num_nodes = 1000 #4096\n",
    "\n",
    "img_input = layers.Input(shape=(32, 32, 3))\n",
    "x = layers.Flatten()(img_input)\n",
    "for i in range(num_layers):\n",
    "    x = layers.Dense(num_nodes, activation='relu', kernel_initializer='he_normal')(x)\n",
    "x = layers.Dense(10, activation='softmax', kernel_initializer='he_normal')(x)\n",
    "model = Model(inputs=img_input, outputs=x)\n",
    "model.summary()"
   ]
  },
  {
   "cell_type": "code",
   "execution_count": 8,
   "metadata": {},
   "outputs": [],
   "source": [
    "model.compile(loss = \"sparse_categorical_crossentropy\",\n",
    "              metrics=['sparse_categorical_accuracy'], \n",
    "              optimizer = optimizers.Adam(lr=5e-4))"
   ]
  },
  {
   "cell_type": "code",
   "execution_count": null,
   "metadata": {},
   "outputs": [
    {
     "name": "stdout",
     "output_type": "stream",
     "text": [
      "Train on 40000 samples, validate on 10000 samples\n",
      "Epoch 1/5\n",
      "40000/40000 [==============================] - 42s 1ms/step - loss: 1.7832 - sparse_categorical_accuracy: 0.4012 - val_loss: 1.5865 - val_sparse_categorical_accuracy: 0.4398\n",
      "Epoch 2/5\n",
      "40000/40000 [==============================] - 41s 1ms/step - loss: 1.4637 - sparse_categorical_accuracy: 0.4854 - val_loss: 1.5651 - val_sparse_categorical_accuracy: 0.4540\n",
      "Epoch 3/5\n",
      "40000/40000 [==============================] - 41s 1ms/step - loss: 1.3262 - sparse_categorical_accuracy: 0.5346 - val_loss: 1.4943 - val_sparse_categorical_accuracy: 0.4893\n",
      "Epoch 4/5\n",
      "14080/40000 [=========>....................] - ETA: 23s - loss: 1.1972 - sparse_categorical_accuracy: 0.5842"
     ]
    }
   ],
   "source": [
    "model_checkpoint = callbacks.ModelCheckpoint(\"./saved_model/model.h5\", \n",
    "                                             monitor='val_sparse_categorical_accuracy', \n",
    "                                             save_best_only=True)\n",
    "tensorboard = callbacks.TensorBoard(log_dir=\"./logs\")\n",
    "history = model.fit(x=x_train, \n",
    "                    y=y_train, \n",
    "                    batch_size=64, \n",
    "                    epochs=5,\n",
    "                    validation_split=0.2, \n",
    "                    shuffle=True,\n",
    "                   callbacks=[model_checkpoint, tensorboard])"
   ]
  },
  {
   "cell_type": "code",
   "execution_count": null,
   "metadata": {},
   "outputs": [],
   "source": [
    "#plt.rcParams['figure.figsize'] = [8, 6]\n",
    "ce = history.history['loss']\n",
    "val_ce = history.history['val_loss']   #validation\n",
    "epochs = range(1,len(ce)+1)\n",
    "plt.figure()\n",
    "plt.plot(epochs,ce,'bo', label='Training mse')\n",
    "plt.plot(epochs,val_ce,'b', label='Validation mse')\n",
    "plt.legend()\n",
    "plt.show()"
   ]
  },
  {
   "cell_type": "code",
   "execution_count": null,
   "metadata": {},
   "outputs": [],
   "source": [
    "y_pred = model.predict(x_test, batch_size=64)\n",
    "y_pred = np.argmax(np.squeeze(y_pred))\n",
    "y_test = np.squeeze(y_test)\n",
    "acc = sum(y_pred == y_test)/len(y_test)\n",
    "print(\"Test accuracy: \" + str(acc))"
   ]
  },
  {
   "cell_type": "code",
   "execution_count": null,
   "metadata": {},
   "outputs": [],
   "source": []
  }
 ],
 "metadata": {
  "kernelspec": {
   "display_name": "Python 3",
   "language": "python",
   "name": "python3"
  },
  "language_info": {
   "codemirror_mode": {
    "name": "ipython",
    "version": 3
   },
   "file_extension": ".py",
   "mimetype": "text/x-python",
   "name": "python",
   "nbconvert_exporter": "python",
   "pygments_lexer": "ipython3",
   "version": "3.6.7"
  }
 },
 "nbformat": 4,
 "nbformat_minor": 2
}
